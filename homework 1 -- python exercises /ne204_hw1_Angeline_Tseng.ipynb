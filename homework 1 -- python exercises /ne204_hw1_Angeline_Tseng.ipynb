{
 "cells": [
  {
   "cell_type": "code",
   "execution_count": 1,
   "metadata": {},
   "outputs": [],
   "source": [
    "import numpy as np # This is a line comment, use them to explain what a line of code does. We renamed the numpy library to \"np\".\n",
    "import matplotlib.pyplot as plt # Import the pyplot module from matplotlib and rename it as plt.\n",
    "import math #import the math library for future mathematical calculation."
   ]
  },
  {
   "cell_type": "markdown",
   "metadata": {},
   "source": [
    "1. First, generate a vector that starts at 0 and ends at 3*pi with steps of 0.1 between elements of the vector. Then generate two vectors: make the vector y1 the cosine of x, and y2 the square root of x. Hint: check out the function np.arange."
   ]
  },
  {
   "cell_type": "code",
   "execution_count": 2,
   "metadata": {},
   "outputs": [],
   "source": [
    "#use the arange attribute of np to generate an array from 0 to 3*pi on the interval of 0.1\n",
    "x = np.arange(0, 3*math.pi, 0.1) \n",
    "#use the cosine attribute of np and make y1 the cosine of x\n",
    "y1 = np.cos(x)\n",
    "#use the square root attribute of math and make y2 the square root of x\n",
    "y2 = np.sqrt(x) "
   ]
  },
  {
   "cell_type": "markdown",
   "metadata": {},
   "source": [
    "2. Plot y1 versus x (with x on the horizontal axis) and make the color of this curve blue. Plot y2 versus x (with x on the horizontal axis), and make the color of this curve black. Label the axes. Add a legend to the figure. (Hint: check out the pyplot functions plt.figure, plt.plot, plt.xlabel, plt.ylabel, and plt.legend.)"
   ]
  },
  {
   "cell_type": "code",
   "execution_count": 3,
   "metadata": {},
   "outputs": [
    {
     "data": {
      "text/plain": [
       "<matplotlib.legend.Legend at 0x7fcd828c09d0>"
      ]
     },
     "execution_count": 3,
     "metadata": {},
     "output_type": "execute_result"
    },
    {
     "data": {
      "image/png": "[encoded data removed]",
      "text/plain": [
       "<Figure size 432x288 with 1 Axes>"
      ]
     },
     "metadata": {
      "needs_background": "light"
     },
     "output_type": "display_data"
    }
   ],
   "source": [
    "plt.figure()\n",
    "plt.plot(x, y1, label='cos(x)', color='b')\n",
    "plt.plot(x, y2, label = 'sqrt(x)', color = 'k')\n",
    "plt.xlabel('numbers from 0 to 3*pi with intervals of 0.1')\n",
    "plt.ylabel('number')\n",
    "plt.legend()"
   ]
  },
  {
   "cell_type": "markdown",
   "metadata": {},
   "source": [
    "3. Multiply y1 and y2 element-wise. Print the arithmetic mean of that vector? (Hint: check out the function np.mean.)"
   ]
  },
  {
   "cell_type": "code",
   "execution_count": 4,
   "metadata": {},
   "outputs": [
    {
     "name": "stdout",
     "output_type": "stream",
     "text": [
      "-0.09181826090978283\n"
     ]
    }
   ],
   "source": [
    "print(np.mean(y1*y2))"
   ]
  },
  {
   "cell_type": "markdown",
   "metadata": {},
   "source": [
    "4. Find all values of y1 greater than 0.5 and set these elements to -5. What is the sum of the resulting vector over all its elements?"
   ]
  },
  {
   "cell_type": "code",
   "execution_count": 5,
   "metadata": {},
   "outputs": [
    {
     "name": "stdout",
     "output_type": "stream",
     "text": [
      "[-5.         -5.         -5.         -5.         -5.         -5.\n",
      " -5.         -5.         -5.         -5.         -5.          0.45359612\n",
      "  0.36235775  0.26749883  0.16996714  0.0707372  -0.02919952 -0.12884449\n",
      " -0.22720209 -0.32328957 -0.41614684 -0.5048461  -0.58850112 -0.66627602\n",
      " -0.73739372 -0.80114362 -0.85688875 -0.90407214 -0.94222234 -0.97095817\n",
      " -0.9899925  -0.99913515 -0.99829478 -0.98747977 -0.96679819 -0.93645669\n",
      " -0.89675842 -0.84810003 -0.79096771 -0.7259323  -0.65364362 -0.57482395\n",
      " -0.49026082 -0.40079917 -0.30733287 -0.2107958  -0.11215253 -0.01238866\n",
      "  0.08749898  0.18651237  0.28366219  0.37797774  0.46851667 -5.\n",
      " -5.         -5.         -5.         -5.         -5.         -5.\n",
      " -5.         -5.         -5.         -5.         -5.         -5.\n",
      " -5.         -5.         -5.         -5.         -5.         -5.\n",
      " -5.         -5.          0.43854733  0.34663532  0.25125984  0.15337386\n",
      "  0.05395542 -0.04600213 -0.14550003 -0.24354415 -0.33915486 -0.43137684\n",
      " -0.51928865 -0.6020119  -0.67872005 -0.74864665 -0.81109301 -0.86543521\n",
      " -0.91113026 -0.9477216  -0.97484362 -0.99222533 -0.99969304]\n",
      "-186.2833880204017\n"
     ]
    }
   ],
   "source": [
    "for a in range(len(y1)):\n",
    "    if y1[a] > 0.5:\n",
    "        y1[a] = -5\n",
    "print(y1)\n",
    "print(np.sum(y1))"
   ]
  },
  {
   "cell_type": "markdown",
   "metadata": {},
   "source": [
    "5. Define a new function called \"test_fun\". This function should accept two scalar inputs (i.e., two real numbers), and returns two outputs. The first output equals the first input minus the second output, and this difference multiplied by 2. (The first output is a list with two elements.) The second output equals the sum of the two inputs. Evaluate this function at (5, np.pi) and print the result."
   ]
  },
  {
   "cell_type": "code",
   "execution_count": 13,
   "metadata": {},
   "outputs": [
    {
     "name": "stdout",
     "output_type": "stream",
     "text": [
      "([-4, -8], 7)\n"
     ]
    }
   ],
   "source": [
    "a = 3\n",
    "b = 4\n",
    "def test_fun(a, b):\n",
    "    # Set a as the first input and b as the second input and set out2 as the second output and out1 as the first output.\n",
    "    out2 = a + b\n",
    "    diff = a - out2\n",
    "    out1 = [a - out2, diff * 2]\n",
    "    return out1, out2\n",
    "\n",
    "print(test_fun(a, b))\n"
   ]
  },
  {
   "cell_type": "markdown",
   "metadata": {},
   "source": [
    "6. Consider the code below. After the for-loop is executed, what is the length of b? What is its 4th element? (Remember that indexing starts at 0.)\n",
    "\n",
    "b = []\n",
    "\n",
    "for k in range(10):\n",
    "\n",
    "    b.append(k*2+3)\n",
    "\n",
    "print(b)\n"
   ]
  },
  {
   "cell_type": "code",
   "execution_count": 7,
   "metadata": {},
   "outputs": [
    {
     "name": "stdout",
     "output_type": "stream",
     "text": [
      "the length of b is 10\n",
      "the 4th element is 9\n"
     ]
    }
   ],
   "source": [
    "b = []\n",
    "\n",
    "for k in range(10):\n",
    "\n",
    "    b.append(k*2+3)\n",
    "    \n",
    "print('the length of b is', len(b))\n",
    "print('the 4th element is', b[3])"
   ]
  },
  {
   "cell_type": "markdown",
   "metadata": {},
   "source": [
    "7. Write a for-loop that generates a list of numbers such that each number is the product of the previous two. \n",
    "Initialize the first two elements of your vector of numbers at the value of 1.1. \n",
    "What is the 10th value in the vector?"
   ]
  },
  {
   "cell_type": "code",
   "execution_count": 8,
   "metadata": {},
   "outputs": [
    {
     "name": "stdout",
     "output_type": "stream",
     "text": [
      "the tenth value is 189.05914247127907\n"
     ]
    }
   ],
   "source": [
    "x = [1.1, 1.1]\n",
    "\n",
    "for i in range(8):\n",
    "    y = x[i] * x[i+1]\n",
    "    x.append(y)\n",
    "    \n",
    "print('the tenth value is', x[9])"
   ]
  },
  {
   "cell_type": "markdown",
   "metadata": {},
   "source": [
    "8. Import scipy.io as sio. \n",
    "\n",
    "If you are using a local copy of python, you'll need to install the package using the terminal command \"conda install scipy\", and restart your notebook's kernel. If you previously made an environment for this course by following the instructions on the blackboard, preface that command with \"conda activate ne204\"."
   ]
  },
  {
   "cell_type": "code",
   "execution_count": 9,
   "metadata": {},
   "outputs": [],
   "source": [
    "import scipy.io as sio"
   ]
  },
  {
   "cell_type": "markdown",
   "metadata": {},
   "source": [
    "9. Download the data file, data.mat, from Blackboard and place it in the same folder as this notebook. Load data.mat using the function sio.loadmat. \n",
    "\n",
    "What type of variable is matfile below? \n",
    "What variables does it contain? (Hint: check out the \"keys\" method.) Print your answers."
   ]
  },
  {
   "cell_type": "code",
   "execution_count": 10,
   "metadata": {},
   "outputs": [
    {
     "name": "stdout",
     "output_type": "stream",
     "text": [
      "<class 'dict'>\n",
      "dict_keys(['__header__', '__version__', '__globals__', 't1', 'v1', 'v3a'])\n"
     ]
    }
   ],
   "source": [
    "matfile = sio.loadmat(\"data.mat\")\n",
    "print(type(matfile))\n",
    "print(matfile.keys())"
   ]
  },
  {
   "cell_type": "markdown",
   "metadata": {},
   "source": [
    "10. How many columns are in the variable named v3a?"
   ]
  },
  {
   "cell_type": "code",
   "execution_count": 12,
   "metadata": {},
   "outputs": [
    {
     "name": "stdout",
     "output_type": "stream",
     "text": [
      "500\n"
     ]
    }
   ],
   "source": [
    "print(len(matfile['v3a'][0]))"
   ]
  }
 ],
 "metadata": {
  "kernelspec": {
   "display_name": "Python 3 (ipykernel)",
   "language": "python",
   "name": "python3"
  },
  "language_info": {
   "codemirror_mode": {
    "name": "ipython",
    "version": 3
   },
   "file_extension": ".py",
   "mimetype": "text/x-python",
   "name": "python",
   "nbconvert_exporter": "python",
   "pygments_lexer": "ipython3",
   "version": "3.9.7"
  },
  "varInspector": {
   "cols": {
    "lenName": 16,
    "lenType": 16,
    "lenVar": 40
   },
   "kernels_config": {
    "python": {
     "delete_cmd_postfix": "",
     "delete_cmd_prefix": "del ",
     "library": "var_list.py",
     "varRefreshCmd": "print(var_dic_list())"
    },
    "r": {
     "delete_cmd_postfix": ") ",
     "delete_cmd_prefix": "rm(",
     "library": "var_list.r",
     "varRefreshCmd": "cat(var_dic_list()) "
    }
   },
   "types_to_exclude": [
    "module",
    "function",
    "builtin_function_or_method",
    "instance",
    "_Feature"
   ],
   "window_display": false
  }
 },
 "nbformat": 4,
 "nbformat_minor": 4
}
